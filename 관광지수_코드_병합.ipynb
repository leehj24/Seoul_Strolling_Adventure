{
  "nbformat": 4,
  "nbformat_minor": 0,
  "metadata": {
    "colab": {
      "provenance": []
    },
    "kernelspec": {
      "name": "python3",
      "display_name": "Python 3"
    },
    "language_info": {
      "name": "python"
    }
  },
  "cells": [
    {
      "cell_type": "code",
      "source": [
        "import pandas as pd\n",
        "import numpy as np\n",
        "from scipy.stats import entropy\n",
        "from sklearn.metrics.pairwise import haversine_distances\n",
        "\n",
        "class TourismDiversityIndex:\n",
        "    def __init__(self, coord_path, raw_tour_path, region):\n",
        "\n",
        "        self.coord_path = coord_path\n",
        "        self.raw_tour_path = raw_tour_path\n",
        "        self.region = region\n",
        "\n",
        "        self.use_full_index = region in [\"경기\"]\n",
        "\n",
        "        self.rename_map = {\n",
        "            \"관광자원\": \"자연\", \"자연관광지\": \"자연\",\n",
        "            \"레포츠소개\": \"레포츠\", \"수상 레포츠\": \"레포츠\",\n",
        "            \"육상 레포츠\": \"레포츠\", \"복합 레포츠\": \"레포츠\",\n",
        "            \"항공 레포츠\": \"레포츠\",\n",
        "            \"휴양관광지\": \"휴양관광지\", \"체험관광지\": \"체험관광지\",\n",
        "            \"건축/조형물\": \"건축/조형물\", \"문화시설\": \"문화시설\",\n",
        "            \"산업관광지\": \"산업관광지\", \"역사관광지\": \"역사관광지\",\n",
        "            \"음식점\": \"음식\", \"쇼핑\": \"쇼핑\", \"숙박시설\": \"숙박\"\n",
        "        }\n",
        "\n",
        "        self.adjusted_df = None\n",
        "        self.final_df = None\n",
        "\n",
        "    def load_data(self):\n",
        "\n",
        "        self.coord_df = pd.read_csv(self.coord_path)\n",
        "        self.tour_df = pd.read_csv(self.raw_tour_path)\n",
        "\n",
        "\n",
        "        if self.use_full_index:\n",
        "            self.coord_df['행정동_full'] = self.coord_df['시군구명'] + '_' + self.coord_df['행정동명']\n",
        "            self.coord_df = self.coord_df.set_index('행정동_full')\n",
        "\n",
        "    def preprocess_tour_data(self):\n",
        "\n",
        "        self.tour_df['cat3'] = self.tour_df['cat2'].map(self.rename_map)\n",
        "\n",
        "\n",
        "        if self.region in [\"경기\"]:\n",
        "            self.tour_df = self.tour_df.rename(columns={'ADM_CD': '행정구역_코드', 'ADM_NM': '행정동명'})\n",
        "            merged = pd.merge(\n",
        "                self.tour_df,\n",
        "                self.coord_df[['행정동명', '행정구역_코드', '시군구명']],\n",
        "                on=['행정동명', '행정구역_코드'],\n",
        "                how='left'\n",
        "            )\n",
        "            self.tour_df['자치구'] = merged['시군구명']\n",
        "            self.tour_df = self.tour_df.rename(columns={'행정동명': '행정동'})\n",
        "\n",
        "\n",
        "        else:\n",
        "            self.tour_df = self.tour_df.rename(columns={'ADM_NM': '행정동명'})\n",
        "\n",
        "            coord_df_unique = self.coord_df.drop_duplicates(subset='행정동명', keep='first')\n",
        "\n",
        "            merged = pd.merge(\n",
        "                self.tour_df,\n",
        "                coord_df_unique[['행정동명', '시군구명']],\n",
        "                on='행정동명',\n",
        "                how='left'\n",
        "            )\n",
        "\n",
        "            self.tour_df['자치구'] = merged['시군구명']\n",
        "\n",
        "            self.tour_df = self.tour_df.rename(columns={'행정동명': '행정동'})\n",
        "\n",
        "    def compute_entropy_index(self):\n",
        "\n",
        "        grouped = self.tour_df[['자치구', '행정동', 'cat3']].value_counts().reset_index(name='개수')\n",
        "        pivot = grouped.pivot(index=['자치구', '행정동'], columns='cat3', values='개수').fillna(0).astype(int)\n",
        "        pivot.columns.name = None\n",
        "        self.result_df = pivot.reset_index()\n",
        "\n",
        "\n",
        "        self.result_df['총합'] = self.result_df.drop(columns=['자치구', '행정동']).sum(axis=1)\n",
        "\n",
        "        numerical_df = self.result_df.drop(columns=['자치구', '행정동', '총합'])\n",
        "\n",
        "        def entropy_score(row):\n",
        "            total = row.sum()\n",
        "            if total == 0:\n",
        "                return 0\n",
        "            probs = row / total\n",
        "            return entropy(probs)\n",
        "\n",
        "        self.result_df['체험다양성지수'] = numerical_df.apply(entropy_score, axis=1)\n",
        "\n",
        "        self.content_df_gu = self.result_df[['자치구', '행정동']].copy()\n",
        "\n",
        "\n",
        "        if self.use_full_index:\n",
        "            self.result_df['행정동_full'] = self.result_df['자치구'] + '_' + self.result_df['행정동']\n",
        "            self.result_df = self.result_df.set_index('행정동_full').drop(columns=['자치구', '행정동'])\n",
        "\n",
        "    def match_and_filter_data(self):\n",
        "\n",
        "        if self.use_full_index:\n",
        "            self.coord_df['행정동_full'] = self.coord_df['시군구명'] + '_' + self.coord_df['행정동명']\n",
        "            self.coord_df = self.coord_df.set_index('행정동_full').drop(columns=['시군구명', '행정동명'])\n",
        "\n",
        "            self.result_df['행정동_full'] = self.result_df.index\n",
        "            self.result_df = self.result_df.set_index('행정동_full')\n",
        "\n",
        "            common_dongs = self.coord_df.index.intersection(self.result_df.index)\n",
        "            self.coord_df = self.coord_df.loc[common_dongs]\n",
        "            self.result_df = self.result_df.loc[common_dongs]\n",
        "\n",
        "            self.content_df_gu = self.result_df.copy().reset_index()\n",
        "            self.content_df_gu[['자치구', '행정동']] = self.content_df_gu['행정동_full'].str.split('_', n=1, expand=True)\n",
        "            self.content_df_gu = self.content_df_gu[['자치구', '행정동']]\n",
        "        else:\n",
        "            self.coord_df = self.coord_df[self.coord_df['행정동명'].isin(self.result_df['행정동'])].reset_index(drop=True)\n",
        "            self.result_df = self.result_df[self.result_df['행정동'].isin(self.coord_df['행정동명'])]\n",
        "            self.content_df_gu = self.result_df[['자치구', '행정동']].copy()\n",
        "            self.result_df = self.result_df.set_index('행정동').drop(columns='자치구')\n",
        "\n",
        "    def calculate_distance_matrix(self):\n",
        "\n",
        "        coords_rad = np.radians(self.coord_df[['위도', '경도']].values)\n",
        "        dist_km = haversine_distances(coords_rad) * 6371\n",
        "        return dist_km\n",
        "\n",
        "    def create_weight_matrix(self, dist_km, threshold_km=None, epsilon=1e-5):\n",
        "\n",
        "        n = dist_km.shape[0]\n",
        "        p_matrix = np.zeros_like(dist_km)\n",
        "\n",
        "        if threshold_km is None:\n",
        "            if self.region == \"서울\":\n",
        "                threshold_km = 2.5\n",
        "            else:\n",
        "                threshold_km = 13\n",
        "\n",
        "        total_series = self.result_df['총합']\n",
        "        entropy_series = self.result_df['체험다양성지수']\n",
        "\n",
        "        q_total_75 = total_series.quantile(0.75)\n",
        "        q_total_50 = total_series.quantile(0.5)\n",
        "        q_entropy_75 = entropy_series.quantile(0.75)\n",
        "        q_entropy_50 = entropy_series.quantile(0.5)\n",
        "\n",
        "        for i in range(n):\n",
        "            for j in range(n):\n",
        "                if i == j:\n",
        "\n",
        "                    total = total_series.iloc[i]\n",
        "                    entropy = entropy_series.iloc[i]\n",
        "                    w1 = 0.3 if total >= q_total_75 else 0.2 if total >= q_total_50 else 0.1\n",
        "                    w2 = 0.3 if entropy >= q_entropy_75 else 0.2 if entropy >= q_entropy_50 else 0.1\n",
        "                    p_matrix[i, j] = w1 + w2\n",
        "                else:\n",
        "\n",
        "                    d = dist_km[i, j]\n",
        "                    p_matrix[i, j] = 1 / (2 * d + epsilon) if d < threshold_km else 0\n",
        "\n",
        "        row_sums = p_matrix.sum(axis=1, keepdims=True)\n",
        "        w_matrix = p_matrix / np.where(row_sums == 0, 1, row_sums)\n",
        "        return w_matrix\n",
        "\n",
        "    def calculate_adjusted_index(self, w_matrix):\n",
        "\n",
        "        if self.use_full_index:\n",
        "            weight_df = pd.DataFrame(w_matrix, index=self.coord_df.index, columns=self.coord_df.index)\n",
        "        else:\n",
        "            weight_df = pd.DataFrame(w_matrix, index=self.coord_df['행정동명'], columns=self.coord_df['행정동명'])\n",
        "\n",
        "        adjusted_df = weight_df @ self.result_df\n",
        "\n",
        "\n",
        "        if self.use_full_index:\n",
        "            adjusted_df = adjusted_df.reset_index()\n",
        "            adjusted_df[['자치구', '행정동']] = adjusted_df['행정동_full'].str.split('_', n=1, expand=True)\n",
        "            adjusted_df = adjusted_df.drop(columns='행정동_full')\n",
        "        else:\n",
        "            adjusted_df.index.name = '행정동'\n",
        "            adjusted_df = adjusted_df.reset_index().merge(self.content_df_gu, on='행정동', how='left')\n",
        "\n",
        "        adjusted_df['힐링'] = adjusted_df['자연'] + adjusted_df['휴양관광지']\n",
        "        adjusted_df['액티비티'] = adjusted_df['레포츠'] + adjusted_df['체험관광지']\n",
        "        adjusted_df['문화'] = (\n",
        "            adjusted_df['건축/조형물'] + adjusted_df['문화시설'] + adjusted_df['산업관광지'] + adjusted_df['역사관광지']\n",
        "        )\n",
        "\n",
        "        if self.use_full_index:\n",
        "            adjusted_df = adjusted_df[['자치구', '행정동', '힐링', '액티비티', '문화', '음식', '쇼핑', '숙박']]\n",
        "        else:\n",
        "            adjusted_df = adjusted_df[['자치구', '행정동', '힐링', '액티비티', '문화', '음식', '쇼핑']]\n",
        "\n",
        "        return adjusted_df\n",
        "\n",
        "    def compute_entropy_std(self, adjusted_df):\n",
        "\n",
        "        category_cols = adjusted_df.columns.difference(['자치구', '행정동'])\n",
        "\n",
        "        def entropy_score(row):\n",
        "            total = row.sum()\n",
        "            if total == 0:\n",
        "                return 0\n",
        "            probs = row / total\n",
        "            return entropy(probs)\n",
        "\n",
        "        adjusted_df['체험다양성_엔트로피'] = adjusted_df[category_cols].apply(entropy_score, axis=1)\n",
        "        adjusted_df['체험다양성_표준편차'] = adjusted_df[category_cols].std(axis=1)\n",
        "\n",
        "        return adjusted_df\n",
        "\n",
        "    def run_all(self):\n",
        "\n",
        "        self.load_data()\n",
        "        self.preprocess_tour_data()\n",
        "        self.compute_entropy_index()\n",
        "        self.match_and_filter_data()\n",
        "        dist_km = self.calculate_distance_matrix()\n",
        "        w_matrix = self.create_weight_matrix(dist_km)\n",
        "        adjusted_df = self.calculate_adjusted_index(w_matrix)\n",
        "        final_df = self.compute_entropy_std(adjusted_df)\n",
        "\n",
        "        self.adjusted_df = adjusted_df\n",
        "        self.final_df = final_df\n",
        "\n",
        "    @property\n",
        "    def adjusted_scores(self):\n",
        "        if self.adjusted_df is None:\n",
        "            self.run_all()\n",
        "        return self.adjusted_df.copy()\n",
        "\n",
        "    @property\n",
        "    def diversity_entropy(self):\n",
        "        if self.final_df is None:\n",
        "            self.run_all()\n",
        "        df = self.final_df[['자치구', '행정동', '체험다양성_엔트로피']].copy()\n",
        "        return df.sort_values(by='체험다양성_엔트로피', ascending=False).reset_index(drop=True)\n",
        "\n",
        "    @property\n",
        "    def diversity_std(self):\n",
        "        if self.final_df is None:\n",
        "            self.run_all()\n",
        "        df = self.final_df[['자치구', '행정동', '체험다양성_표준편차']].copy()\n",
        "        return df.sort_values(by='체험다양성_표준편차', ascending=False).reset_index(drop=True)\n",
        "\n",
        "    def get_category_score(self, category_name):\n",
        "        if self.adjusted_df is None:\n",
        "            self.run_all()\n",
        "        if category_name in self.adjusted_df.columns:\n",
        "            df = self.adjusted_df[['자치구', '행정동', category_name]].copy()\n",
        "            return df.sort_values(by=category_name, ascending=False).reset_index(drop=True)\n",
        "        else:\n",
        "            raise ValueError(f\"'{category_name}' 카테고리는 존재하지 않습니다.\")\n",
        "\n",
        "    def export(self, filename):\n",
        "        if self.final_df is None:\n",
        "            self.run_all()\n",
        "        self.final_df.to_csv(filename, index=False)"
      ],
      "metadata": {
        "id": "0IUjZE57IEy0"
      },
      "execution_count": null,
      "outputs": []
    },
    {
      "cell_type": "markdown",
      "source": [
        "# 출력 예시"
      ],
      "metadata": {
        "id": "aGCdN9SQ1GcV"
      }
    },
    {
      "cell_type": "code",
      "source": [
        "ex = TourismDiversityIndex(\"경기_중심좌표.csv\", \"경기_중심좌표_행정동_매핑_Final.csv\", \"경기\")\n",
        "adjusted = ex.adjusted_scores\n",
        "print(adjusted.head())"
      ],
      "metadata": {
        "colab": {
          "base_uri": "https://localhost:8080/"
        },
        "id": "cXA4wzo-Ip9D",
        "outputId": "ad9c6ea2-3cc0-4545-91c8-e96c336cfb0d"
      },
      "execution_count": null,
      "outputs": [
        {
          "output_type": "stream",
          "name": "stdout",
          "text": [
            "   자치구  행정동         힐링       액티비티        문화         음식        쇼핑        숙박  \\\n",
            "0  가평군  가평읍   8.876844  35.535411  8.340898  32.220430  0.889715  0.000000   \n",
            "1  가평군   북면  16.513754  39.817658  9.000000   5.884205  0.060781  0.000000   \n",
            "2  가평군   상면   6.450964  25.268229  3.985214  17.605723  0.133293  0.000000   \n",
            "3  가평군  설악면   8.757376  47.974015  4.162964  28.523809  0.939065  0.000000   \n",
            "4  가평군  조종면   2.879345  20.849044  3.314121  16.775161  0.733022  0.058038   \n",
            "\n",
            "   체험다양성_엔트로피  체험다양성_표준편차  \n",
            "0    1.241378   15.629019  \n",
            "1    1.137316   15.013705  \n",
            "2    1.183715   10.294914  \n",
            "3    1.115577   19.231637  \n",
            "4    1.169467    8.991628  \n"
          ]
        }
      ]
    },
    {
      "cell_type": "code",
      "source": [
        "healing_score = ex.get_category_score(\"힐링\")\n",
        "print(healing_score.head())"
      ],
      "metadata": {
        "colab": {
          "base_uri": "https://localhost:8080/"
        },
        "id": "urExO0aNItWQ",
        "outputId": "2600edc6-500d-4d4b-d001-9d755e8989bb"
      },
      "execution_count": null,
      "outputs": [
        {
          "output_type": "stream",
          "name": "stdout",
          "text": [
            "       자치구  행정동         힐링\n",
            "0  안산시 단원구  대부동  20.403651\n",
            "1      가평군   북면  16.513754\n",
            "2      화성시  서신면  11.718068\n",
            "3      가평군  가평읍   8.876844\n",
            "4      가평군  설악면   8.757376\n"
          ]
        }
      ]
    },
    {
      "cell_type": "code",
      "source": [
        "activity_score = ex.get_category_score(\"액티비티\")\n",
        "print(activity_score.head())"
      ],
      "metadata": {
        "colab": {
          "base_uri": "https://localhost:8080/"
        },
        "id": "FvD3DdRcLYkj",
        "outputId": "56986fff-a119-4638-8912-be7a4de7e780"
      },
      "execution_count": null,
      "outputs": [
        {
          "output_type": "stream",
          "name": "stdout",
          "text": [
            "       자치구  행정동       액티비티\n",
            "0      가평군  설악면  47.974015\n",
            "1      가평군   북면  39.817658\n",
            "2  안산시 단원구  대부동  36.508096\n",
            "3      가평군  가평읍  35.535411\n",
            "4      포천시  이동면  28.333468\n"
          ]
        }
      ]
    },
    {
      "cell_type": "code",
      "source": [
        "culture_score = ex.get_category_score(\"문화\")\n",
        "print(culture_score.head())"
      ],
      "metadata": {
        "colab": {
          "base_uri": "https://localhost:8080/"
        },
        "id": "jdyrOI6uLbh7",
        "outputId": "cee6851b-ca63-4dcd-efc2-ebb44a263b67"
      },
      "execution_count": null,
      "outputs": [
        {
          "output_type": "stream",
          "name": "stdout",
          "text": [
            "       자치구  행정동         문화\n",
            "0      파주시  탄현면  15.033604\n",
            "1  안산시 단원구  대부동   9.259537\n",
            "2      가평군   북면   9.000000\n",
            "3      가평군  가평읍   8.340898\n",
            "4      파주시  문산읍   8.112121\n"
          ]
        }
      ]
    },
    {
      "cell_type": "code",
      "source": [
        "food_score = ex.get_category_score(\"음식\")\n",
        "print(food_score.head())"
      ],
      "metadata": {
        "colab": {
          "base_uri": "https://localhost:8080/"
        },
        "id": "2DY-nW2ZLbbm",
        "outputId": "13adcbcf-e3f6-42c5-d7c1-f9c9a975febe"
      },
      "execution_count": null,
      "outputs": [
        {
          "output_type": "stream",
          "name": "stdout",
          "text": [
            "       자치구  행정동         음식\n",
            "0  안산시 단원구  대부동  42.797192\n",
            "1      가평군  가평읍  32.220430\n",
            "2      가평군  청평면  30.875514\n",
            "3      가평군  설악면  28.523809\n",
            "4      파주시  탄현면  22.027206\n"
          ]
        }
      ]
    },
    {
      "cell_type": "code",
      "source": [
        "shopping_score = ex.get_category_score(\"쇼핑\")\n",
        "print(shopping_score.head())"
      ],
      "metadata": {
        "colab": {
          "base_uri": "https://localhost:8080/"
        },
        "id": "3v6qHfydLbTD",
        "outputId": "19e7feca-42c0-4d16-9cdc-5d0e30e8688d"
      },
      "execution_count": null,
      "outputs": [
        {
          "output_type": "stream",
          "name": "stdout",
          "text": [
            "   자치구   행정동         쇼핑\n",
            "0  파주시   탄현면  49.006621\n",
            "1  여주시   여흥동  42.078555\n",
            "2  이천시   호법면  37.580888\n",
            "3  김포시   고촌읍  15.937002\n",
            "4  파주시  운정5동  14.986075\n"
          ]
        }
      ]
    },
    {
      "cell_type": "code",
      "source": [
        "stay_score = ex.get_category_score(\"숙박\")\n",
        "print(stay_score.head())"
      ],
      "metadata": {
        "colab": {
          "base_uri": "https://localhost:8080/"
        },
        "id": "VYg_wr-6Lj1m",
        "outputId": "14d88c8d-7ed1-473f-fbc8-81058b75911d"
      },
      "execution_count": null,
      "outputs": [
        {
          "output_type": "stream",
          "name": "stdout",
          "text": [
            "   자치구  행정동        숙박\n",
            "0  포천시  일동면  0.629838\n",
            "1  포천시  영중면  0.089668\n",
            "2  포천시  이동면  0.070447\n",
            "3  포천시  화현면  0.060142\n",
            "4  가평군  조종면  0.058038\n"
          ]
        }
      ]
    },
    {
      "cell_type": "code",
      "source": [
        "diversity_entropy = ex.diversity_entropy\n",
        "print(diversity_entropy.head())"
      ],
      "metadata": {
        "colab": {
          "base_uri": "https://localhost:8080/"
        },
        "id": "V8lnA9-2KGUj",
        "outputId": "c6aa8b44-76aa-475f-da94-24d947a837f2"
      },
      "execution_count": null,
      "outputs": [
        {
          "output_type": "stream",
          "name": "stdout",
          "text": [
            "       자치구  행정동  체험다양성_엔트로피\n",
            "0  안산시 단원구  초지동    1.547459\n",
            "1      여주시  오학동    1.545467\n",
            "2  용인시 처인구  백암면    1.541996\n",
            "3      화성시  비봉면    1.538306\n",
            "4      여주시  북내면    1.518434\n"
          ]
        }
      ]
    },
    {
      "cell_type": "code",
      "source": [
        "diversity_std = ex.diversity_std\n",
        "print(diversity_std.head())"
      ],
      "metadata": {
        "colab": {
          "base_uri": "https://localhost:8080/"
        },
        "id": "yi_Khf6IKH9y",
        "outputId": "01283c52-8def-41d6-d6ae-14dbd332aef0"
      },
      "execution_count": null,
      "outputs": [
        {
          "output_type": "stream",
          "name": "stdout",
          "text": [
            "       자치구  행정동  체험다양성_표준편차\n",
            "0      가평군  설악면   19.231637\n",
            "1      파주시  탄현면   18.267681\n",
            "2  안산시 단원구  대부동   18.176786\n",
            "3      여주시  여흥동   15.771402\n",
            "4      가평군  가평읍   15.629019\n"
          ]
        }
      ]
    },
    {
      "cell_type": "code",
      "source": [
        "ex = TourismDiversityIndex('경기_중심좌표.csv', '경기_중심좌표_행정동_매핑_Final.csv','경기')\n",
        "ex.export('경기_관광지수_최종.csv')"
      ],
      "metadata": {
        "id": "ybImlaLJO1Uh"
      },
      "execution_count": null,
      "outputs": []
    },
    {
      "cell_type": "code",
      "source": [
        "ex = TourismDiversityIndex('서울_중심좌표.csv', '서울_중심좌표_행정동_매핑_Final.csv','서울')\n",
        "ex.export('서울_관광지수_최종.csv')"
      ],
      "metadata": {
        "id": "Auum16IpO4Hz"
      },
      "execution_count": null,
      "outputs": []
    },
    {
      "cell_type": "code",
      "source": [
        "ex = TourismDiversityIndex('인천_중심좌표.csv', '인천_중심좌표_행정동_매핑_Final.csv','인천')\n",
        "ex.export('인천_관광지수_최종.csv')"
      ],
      "metadata": {
        "id": "RZL9KtvjO7B4"
      },
      "execution_count": null,
      "outputs": []
    },
    {
      "cell_type": "markdown",
      "source": [
        "# 주석 처리 (코드 설명 포함 ) 버전"
      ],
      "metadata": {
        "id": "cX6HP8THPEVV"
      }
    },
    {
      "cell_type": "code",
      "source": [
        "import pandas as pd\n",
        "import numpy as np\n",
        "from scipy.stats import entropy\n",
        "from sklearn.metrics.pairwise import haversine_distances\n",
        "\n",
        "class TourismDiversityIndex:\n",
        "    def __init__(self, coord_path, raw_tour_path, region):\n",
        "\n",
        "        # 파일 경로와 지역 설정\n",
        "        self.coord_path = coord_path        # 행정동별 좌표 데이터\n",
        "        self.raw_tour_path = raw_tour_path  # 관광지 데이터\n",
        "        self.region = region                # 대상 지역 ( 경기 or 인천 or 서울)\n",
        "\n",
        "        self.use_full_index = region in [\"경기\"]   # 경기 지역이면 '자치구_행정동'을 인덱스로 사용 ( 행정동 이름 중복 막기 위함 )\n",
        "\n",
        "        # 카테고리명 표준화 매핑\n",
        "        self.rename_map = {\n",
        "            \"관광자원\": \"자연\", \"자연관광지\": \"자연\",\n",
        "            \"레포츠소개\": \"레포츠\", \"수상 레포츠\": \"레포츠\",\n",
        "            \"육상 레포츠\": \"레포츠\", \"복합 레포츠\": \"레포츠\",\n",
        "            \"항공 레포츠\": \"레포츠\",\n",
        "            \"휴양관광지\": \"휴양관광지\", \"체험관광지\": \"체험관광지\",\n",
        "            \"건축/조형물\": \"건축/조형물\", \"문화시설\": \"문화시설\",\n",
        "            \"산업관광지\": \"산업관광지\", \"역사관광지\": \"역사관광지\",\n",
        "            \"음식점\": \"음식\", \"쇼핑\": \"쇼핑\", \"숙박시설\": \"숙박\"\n",
        "        }\n",
        "        # 필요한 속성 초기화\n",
        "        self.adjusted_df = None\n",
        "        self.final_df = None\n",
        "\n",
        "    def load_data(self):\n",
        "        # 좌표와 관광지 데이터 불러오기\n",
        "        self.coord_df = pd.read_csv(self.coord_path)\n",
        "        self.tour_df = pd.read_csv(self.raw_tour_path)\n",
        "\n",
        "        # 경기 지역은 행정동_full 컬럼 생성 후 인덱스 지정\n",
        "        if self.use_full_index:\n",
        "            self.coord_df['행정동_full'] = self.coord_df['시군구명'] + '_' + self.coord_df['행정동명']\n",
        "            self.coord_df = self.coord_df.set_index('행정동_full')\n",
        "\n",
        "    def preprocess_tour_data(self):\n",
        "        # 기본 설정된 관광지 유형(cat2)을 변경한 카테고리(cat3)로 변환\n",
        "        self.tour_df['cat3'] = self.tour_df['cat2'].map(self.rename_map)\n",
        "\n",
        "        # 경기 지역은 자치구/행정동/행정구역코드 기준 병합 처리\n",
        "        if self.region in [\"경기\"]:\n",
        "            self.tour_df = self.tour_df.rename(columns={'ADM_CD': '행정구역_코드', 'ADM_NM': '행정동명'})\n",
        "            merged = pd.merge(\n",
        "                self.tour_df,\n",
        "                self.coord_df[['행정동명', '행정구역_코드', '시군구명']],\n",
        "                on=['행정동명', '행정구역_코드'],\n",
        "                how='left'\n",
        "            )\n",
        "            self.tour_df['자치구'] = merged['시군구명']\n",
        "            self.tour_df = self.tour_df.rename(columns={'행정동명': '행정동'})\n",
        "\n",
        "        # 나머지는 행정동 기준 병합 처리\n",
        "        else:\n",
        "            self.tour_df = self.tour_df.rename(columns={'ADM_NM': '행정동명'})\n",
        "\n",
        "            coord_df_unique = self.coord_df.drop_duplicates(subset='행정동명', keep='first')\n",
        "\n",
        "            merged = pd.merge(\n",
        "                self.tour_df,\n",
        "                coord_df_unique[['행정동명', '시군구명']],\n",
        "                on='행정동명',\n",
        "                how='left'\n",
        "            )\n",
        "\n",
        "            self.tour_df['자치구'] = merged['시군구명']\n",
        "\n",
        "            self.tour_df = self.tour_df.rename(columns={'행정동명': '행정동'})\n",
        "\n",
        "    def compute_entropy_index(self):\n",
        "        # 카테고리별 관광지 개수 집계\n",
        "        grouped = self.tour_df[['자치구', '행정동', 'cat3']].value_counts().reset_index(name='개수')\n",
        "        pivot = grouped.pivot(index=['자치구', '행정동'], columns='cat3', values='개수').fillna(0).astype(int)\n",
        "        pivot.columns.name = None\n",
        "        self.result_df = pivot.reset_index()\n",
        "\n",
        "        # 총 관광지 개수와 엔트로피 계산\n",
        "        self.result_df['총합'] = self.result_df.drop(columns=['자치구', '행정동']).sum(axis=1)\n",
        "\n",
        "        numerical_df = self.result_df.drop(columns=['자치구', '행정동', '총합'])\n",
        "\n",
        "        def entropy_score(row):\n",
        "            total = row.sum()\n",
        "            if total == 0:\n",
        "                return 0\n",
        "            probs = row / total\n",
        "            return entropy(probs)\n",
        "\n",
        "        self.result_df['체험다양성지수'] = numerical_df.apply(entropy_score, axis=1)\n",
        "\n",
        "        self.content_df_gu = self.result_df[['자치구', '행정동']].copy()\n",
        "\n",
        "        # 경기 지역이면 인덱스를 행정동_full로 변경\n",
        "        if self.use_full_index:\n",
        "            self.result_df['행정동_full'] = self.result_df['자치구'] + '_' + self.result_df['행정동']\n",
        "            self.result_df = self.result_df.set_index('행정동_full').drop(columns=['자치구', '행정동'])\n",
        "\n",
        "    def match_and_filter_data(self):\n",
        "        # 좌표 데이터와 관광지 데이터를 공통 행정동 기준으로 정렬 및 정제\n",
        "        if self.use_full_index:\n",
        "            self.coord_df['행정동_full'] = self.coord_df['시군구명'] + '_' + self.coord_df['행정동명']\n",
        "            self.coord_df = self.coord_df.set_index('행정동_full').drop(columns=['시군구명', '행정동명'])\n",
        "\n",
        "            self.result_df['행정동_full'] = self.result_df.index\n",
        "            self.result_df = self.result_df.set_index('행정동_full')\n",
        "\n",
        "            common_dongs = self.coord_df.index.intersection(self.result_df.index)\n",
        "            self.coord_df = self.coord_df.loc[common_dongs]\n",
        "            self.result_df = self.result_df.loc[common_dongs]\n",
        "\n",
        "            self.content_df_gu = self.result_df.copy().reset_index()\n",
        "            self.content_df_gu[['자치구', '행정동']] = self.content_df_gu['행정동_full'].str.split('_', n=1, expand=True)\n",
        "            self.content_df_gu = self.content_df_gu[['자치구', '행정동']]\n",
        "        else:\n",
        "            self.coord_df = self.coord_df[self.coord_df['행정동명'].isin(self.result_df['행정동'])].reset_index(drop=True)\n",
        "            self.result_df = self.result_df[self.result_df['행정동'].isin(self.coord_df['행정동명'])]\n",
        "            self.content_df_gu = self.result_df[['자치구', '행정동']].copy()\n",
        "            self.result_df = self.result_df.set_index('행정동').drop(columns='자치구')\n",
        "\n",
        "    def calculate_distance_matrix(self):\n",
        "        # 위도/경도를 라디안 단위로 변환한 후 하버사인 거리 행렬 계산\n",
        "        coords_rad = np.radians(self.coord_df[['위도', '경도']].values)\n",
        "        dist_km = haversine_distances(coords_rad) * 6371 # 지구 반지름을 곱 거리(km)\n",
        "        return dist_km\n",
        "\n",
        "    def create_weight_matrix(self, dist_km, threshold_km=None, epsilon=1e-5):\n",
        "        # 거리 기반 공간가중행렬 생성\n",
        "        n = dist_km.shape[0]\n",
        "        p_matrix = np.zeros_like(dist_km)\n",
        "\n",
        "        # 지역에 따라 거리 기준 임계값 설정\n",
        "        if threshold_km is None:\n",
        "            if self.region == \"서울\":\n",
        "                threshold_km = 2.5\n",
        "            else:\n",
        "                threshold_km = 13\n",
        "\n",
        "        # 관광지 총합과 체험다양성 기준으로 자기신뢰도(자기자신가중치) 설정\n",
        "        total_series = self.result_df['총합']\n",
        "        entropy_series = self.result_df['체험다양성지수']\n",
        "\n",
        "        q_total_75 = total_series.quantile(0.75)\n",
        "        q_total_50 = total_series.quantile(0.5)\n",
        "        q_entropy_75 = entropy_series.quantile(0.75)\n",
        "        q_entropy_50 = entropy_series.quantile(0.5)\n",
        "\n",
        "        for i in range(n):\n",
        "            for j in range(n):\n",
        "                if i == j:\n",
        "                    # 자기 자신에 대한 가중치 (관광지수 + 엔트로피)\n",
        "                    total = total_series.iloc[i]\n",
        "                    entropy = entropy_series.iloc[i]\n",
        "                    w1 = 0.3 if total >= q_total_75 else 0.2 if total >= q_total_50 else 0.1\n",
        "                    w2 = 0.3 if entropy >= q_entropy_75 else 0.2 if entropy >= q_entropy_50 else 0.1\n",
        "                    p_matrix[i, j] = w1 + w2\n",
        "                else:\n",
        "                    # 인접 행정동에 대한 거리 기반 가중치\n",
        "                    d = dist_km[i, j]\n",
        "                    p_matrix[i, j] = 1 / (2 * d + epsilon) if d < threshold_km else 0\n",
        "\n",
        "        # 행 단위 정규화 (총합 1)\n",
        "        row_sums = p_matrix.sum(axis=1, keepdims=True)\n",
        "        w_matrix = p_matrix / np.where(row_sums == 0, 1, row_sums)\n",
        "        return w_matrix\n",
        "\n",
        "    def calculate_adjusted_index(self, w_matrix):\n",
        "        # 공간가중행렬을 곱해 공간보정지수 계산\n",
        "        if self.use_full_index:\n",
        "            weight_df = pd.DataFrame(w_matrix, index=self.coord_df.index, columns=self.coord_df.index)\n",
        "        else:\n",
        "            weight_df = pd.DataFrame(w_matrix, index=self.coord_df['행정동명'], columns=self.coord_df['행정동명'])\n",
        "\n",
        "        # 행정동별 보정 관광지 수 계산\n",
        "        adjusted_df = weight_df @ self.result_df\n",
        "\n",
        "        # 결과 포맷 정리\n",
        "        if self.use_full_index:\n",
        "            adjusted_df = adjusted_df.reset_index()\n",
        "            adjusted_df[['자치구', '행정동']] = adjusted_df['행정동_full'].str.split('_', n=1, expand=True)\n",
        "            adjusted_df = adjusted_df.drop(columns='행정동_full')\n",
        "        else:\n",
        "            adjusted_df.index.name = '행정동'\n",
        "            adjusted_df = adjusted_df.reset_index().merge(self.content_df_gu, on='행정동', how='left')\n",
        "\n",
        "        # 관광지 유형을 카테고리별로 묶기\n",
        "        adjusted_df['힐링'] = adjusted_df['자연'] + adjusted_df['휴양관광지']\n",
        "        adjusted_df['액티비티'] = adjusted_df['레포츠'] + adjusted_df['체험관광지']\n",
        "        adjusted_df['문화'] = (\n",
        "            adjusted_df['건축/조형물'] + adjusted_df['문화시설'] + adjusted_df['산업관광지'] + adjusted_df['역사관광지']\n",
        "        )\n",
        "\n",
        "        # 결과 컬럼 선택\n",
        "        if self.use_full_index:\n",
        "            adjusted_df = adjusted_df[['자치구', '행정동', '힐링', '액티비티', '문화', '음식', '쇼핑', '숙박']]\n",
        "        else:\n",
        "            adjusted_df = adjusted_df[['자치구', '행정동', '힐링', '액티비티', '문화', '음식', '쇼핑']]\n",
        "\n",
        "        return adjusted_df\n",
        "\n",
        "    def compute_entropy_std(self, adjusted_df):\n",
        "        # 공간보정지수 기반 엔트로피와 표준편차 계산\n",
        "        category_cols = adjusted_df.columns.difference(['자치구', '행정동'])\n",
        "\n",
        "        def entropy_score(row):\n",
        "            total = row.sum()\n",
        "            if total == 0:\n",
        "                return 0\n",
        "            probs = row / total\n",
        "            return entropy(probs)\n",
        "\n",
        "        adjusted_df['체험다양성_엔트로피'] = adjusted_df[category_cols].apply(entropy_score, axis=1)\n",
        "        adjusted_df['체험다양성_표준편차'] = adjusted_df[category_cols].std(axis=1)\n",
        "\n",
        "        return adjusted_df\n",
        "\n",
        "    def run_all(self):\n",
        "        # 전체 흐름 실행\n",
        "        self.load_data()\n",
        "        self.preprocess_tour_data()\n",
        "        self.compute_entropy_index()\n",
        "        self.match_and_filter_data()\n",
        "        dist_km = self.calculate_distance_matrix()\n",
        "        w_matrix = self.create_weight_matrix(dist_km)\n",
        "        adjusted_df = self.calculate_adjusted_index(w_matrix)\n",
        "        final_df = self.compute_entropy_std(adjusted_df)\n",
        "\n",
        "        self.adjusted_df = adjusted_df\n",
        "        self.final_df = final_df\n",
        "\n",
        "    @property\n",
        "    def adjusted_scores(self): # 공간보정지수 전체 DataFrame 반환\n",
        "        if self.adjusted_df is None:\n",
        "            self.run_all()\n",
        "        return self.adjusted_df.copy()\n",
        "\n",
        "    @property\n",
        "    def diversity_entropy(self): # 체험다양성_엔트로피 기준 내림차순 정렬 결과 반환\n",
        "        if self.final_df is None:\n",
        "            self.run_all()\n",
        "        df = self.final_df[['자치구', '행정동', '체험다양성_엔트로피']].copy()\n",
        "        return df.sort_values(by='체험다양성_엔트로피', ascending=False).reset_index(drop=True)\n",
        "\n",
        "    @property\n",
        "    def diversity_std(self): # 체험다양성_표준편차 기준 내림차순 정렬 결과 반환\n",
        "        if self.final_df is None:\n",
        "            self.run_all()\n",
        "        df = self.final_df[['자치구', '행정동', '체험다양성_표준편차']].copy()\n",
        "        return df.sort_values(by='체험다양성_표준편차', ascending=False).reset_index(drop=True)\n",
        "\n",
        "    def get_category_score(self, category_name): # 지정 카테고리 점수 기준 내림차순 정렬 결과 반환\n",
        "        if self.adjusted_df is None:\n",
        "            self.run_all()\n",
        "        if category_name in self.adjusted_df.columns:\n",
        "            df = self.adjusted_df[['자치구', '행정동', category_name]].copy()\n",
        "            return df.sort_values(by=category_name, ascending=False).reset_index(drop=True)\n",
        "        else:\n",
        "            raise ValueError(f\"'{category_name}' 카테고리는 존재하지 않습니다.\")\n",
        "\n",
        "    def export(self, filename):  # 전체 결과 CSV로 저장\n",
        "        if self.final_df is None:\n",
        "            self.run_all()\n",
        "        self.final_df.to_csv(filename, index=False)"
      ],
      "metadata": {
        "id": "2kJFm5vxPEre"
      },
      "execution_count": null,
      "outputs": []
    }
  ]
}