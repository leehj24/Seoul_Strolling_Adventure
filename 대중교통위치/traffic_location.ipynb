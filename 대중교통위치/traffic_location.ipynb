{
 "cells": [
  {
   "cell_type": "code",
   "execution_count": 2,
   "id": "5127143a",
   "metadata": {},
   "outputs": [
    {
     "data": {
      "text/plain": [
       "'seoul_subway_map.html'"
      ]
     },
     "execution_count": 2,
     "metadata": {},
     "output_type": "execute_result"
    }
   ],
   "source": [
    "import folium\n",
    "from folium.plugins import MarkerCluster\n",
    "import pandas as pd\n",
    "file = r'C:\\Users\\hyunj\\machin_prj\\대중교통위치\\전체역_업데이트.xlsx'\n",
    "\n",
    "df = pd.read_excel(file)\n",
    "# 서울 중심 좌표 설정\n",
    "seoul_center = [37.5665, 126.9780]\n",
    "m = folium.Map(location=seoul_center, zoom_start=11)\n",
    "\n",
    "# 마커 클러스터 추가\n",
    "marker_cluster = MarkerCluster().add_to(m)\n",
    "\n",
    "# 데이터프레임을 순회하며 각 역의 위치에 마커 추가\n",
    "for _, row in df.iterrows():\n",
    "    station_name = row['name']\n",
    "    latitude = row['위도']\n",
    "    longitude = row['경도']\n",
    "    line = row['line']\n",
    "    popup_text = f\"{station_name} ({line})\"\n",
    "    folium.Marker(location=[latitude, longitude], popup=popup_text).add_to(marker_cluster)\n",
    "\n",
    "# 지도 저장\n",
    "output_path = \"seoul_subway_map.html\"\n",
    "m.save(output_path)\n",
    "\n",
    "output_path\n"
   ]
  },
  {
   "cell_type": "code",
   "execution_count": 14,
   "id": "27ec3b0c",
   "metadata": {},
   "outputs": [
    {
     "data": {
      "text/plain": [
       "'bus_stops_map.html'"
      ]
     },
     "execution_count": 14,
     "metadata": {},
     "output_type": "execute_result"
    }
   ],
   "source": [
    "import folium\n",
    "from folium.plugins import MarkerCluster\n",
    "import pandas as pd\n",
    "file = r'C:\\Users\\hyunj\\machin_prj\\대중교통위치\\국토교통부_전국 버스정류장 위치정보_20241028.csv'\n",
    "\n",
    "df = pd.read_csv(file, encoding='cp949')\n",
    "\n",
    "# 서울 중심 좌표 설정\n",
    "map_center = [37.5665, 126.9780]\n",
    "m = folium.Map(location=seoul_center, zoom_start=11)\n",
    "bus_stop_df_clean = df.dropna(subset=['위도', '경도'])\n",
    "\n",
    "# Folium 지도 다시 생성\n",
    "m = folium.Map(location=map_center, zoom_start=7)\n",
    "marker_cluster = MarkerCluster().add_to(m)\n",
    "\n",
    "# 마커 추가\n",
    "for _, row in bus_stop_df_clean.iterrows():\n",
    "    lat = row['위도']\n",
    "    lon = row['경도']\n",
    "    name = row['정류장명']\n",
    "    folium.Marker(\n",
    "        location=[lat, lon],\n",
    "        popup=name\n",
    "    ).add_to(marker_cluster)\n",
    "\n",
    "# HTML 파일로 저장\n",
    "output_path = \"bus_stops_map.html\"\n",
    "m.save(output_path)\n",
    "\n",
    "output_path"
   ]
  },
  {
   "cell_type": "code",
   "execution_count": 18,
   "id": "f9e48ea5",
   "metadata": {},
   "outputs": [],
   "source": [
    "import pandas as pd\n",
    "import folium\n",
    "import json\n",
    "from shapely.geometry import Point, shape\n",
    "\n",
    "file = r'C:\\Users\\hyunj\\machin_prj\\대중교통위치\\전체역_업데이트.xlsx'\n",
    "\n",
    "# 1. 지하철 엑셀 데이터 불러오기\n",
    "df = pd.read_excel(file)\n",
    "\n",
    "# 2. GeoJSON 파일 불러오기 (행정구역 경계)\n",
    "geojson_path = r'C:\\Users\\hyunj\\machin_prj\\대중교통위치\\법정구역_시군구_simplified.geojson'\n",
    "with open(geojson_path, encoding='utf-8') as f:\n",
    "    geojson = json.load(f)\n",
    "\n",
    "# 3. 각 자치구의 다각형 및 이름 저장\n",
    "region_polygons = []\n",
    "for feature in geojson['features']:\n",
    "    poly = shape(feature['geometry'])\n",
    "    name = feature['properties'].get('SIG_KOR_NM')\n",
    "    region_polygons.append((name, poly))\n",
    "\n",
    "# 4. 각 지하철역의 위경도를 기반으로 자치구 찾기\n",
    "def find_region(lat, lng):\n",
    "    point = Point(lng, lat)\n",
    "    for name, polygon in region_polygons:\n",
    "        if polygon.contains(point):\n",
    "            return name\n",
    "    return None\n",
    "\n",
    "# 5. 자치구 이름 열 생성\n",
    "df['자치구'] = df.apply(lambda row: find_region(row['위도'], row['경도']), axis=1)\n",
    "\n",
    "# 6. 자치구별 지하철역 수 집계\n",
    "region_station_counts = df['자치구'].value_counts().reset_index()\n",
    "region_station_counts.columns = ['SIG_KOR_NM', 'station_count']\n",
    "\n",
    "# 7. Choropleth 지도 생성\n",
    "seoul_center = [37.5665, 126.9780]\n",
    "m = folium.Map(location=seoul_center, zoom_start=11)\n",
    "\n",
    "folium.Choropleth(\n",
    "    geo_data=geojson,\n",
    "    data=region_station_counts,\n",
    "    columns=['SIG_KOR_NM', 'station_count'],\n",
    "    key_on='feature.properties.SIG_KOR_NM',\n",
    "    fill_color='YlGnBu',\n",
    "    fill_opacity=0.7,\n",
    "    line_opacity=0.2,\n",
    "    legend_name='자치구별 지하철역 수'\n",
    ").add_to(m)\n",
    "\n",
    "# 8. 지도 저장\n",
    "m.save(\"seoul_station_choropleth_by_region.html\")\n"
   ]
  },
  {
   "cell_type": "code",
   "execution_count": null,
   "id": "50b6454b",
   "metadata": {},
   "outputs": [],
   "source": []
  }
 ],
 "metadata": {
  "kernelspec": {
   "display_name": "base",
   "language": "python",
   "name": "python3"
  },
  "language_info": {
   "codemirror_mode": {
    "name": "ipython",
    "version": 3
   },
   "file_extension": ".py",
   "mimetype": "text/x-python",
   "name": "python",
   "nbconvert_exporter": "python",
   "pygments_lexer": "ipython3",
   "version": "3.12.4"
  }
 },
 "nbformat": 4,
 "nbformat_minor": 5
}
