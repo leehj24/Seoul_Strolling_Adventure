{
 "cells": [
  {
   "cell_type": "code",
   "execution_count": 1,
   "id": "e055d191",
   "metadata": {},
   "outputs": [],
   "source": [
    "file_path_korea = '지역\\전국_지역.xlsx'"
   ]
  }
 ],
 "metadata": {
  "kernelspec": {
   "display_name": "venv",
   "language": "python",
   "name": "venv"
  },
  "language_info": {
   "codemirror_mode": {
    "name": "ipython",
    "version": 3
   },
   "file_extension": ".py",
   "mimetype": "text/x-python",
   "name": "python",
   "nbconvert_exporter": "python",
   "pygments_lexer": "ipython3",
   "version": "3.9.13"
  }
 },
 "nbformat": 4,
 "nbformat_minor": 5
}
