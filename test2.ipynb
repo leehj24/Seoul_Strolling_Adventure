{
 "cells": [
  {
   "cell_type": "code",
   "execution_count": null,
   "id": "606a5063",
   "metadata": {},
   "outputs": [],
   "source": [
    "\n",
    "# 1) 음식 카테고리 필터링\n",
    "df_food = df[df['cat1'] == '음식'].copy()\n",
    "\n",
    "# 2) 인천역 좌표\n",
    "station_lat, station_lon = 37.476919, 126.616981"
   ]
  },
  {
   "cell_type": "code",
   "execution_count": null,
   "id": "74b1af93",
   "metadata": {},
   "outputs": [],
   "source": [
    "class tour 지수 :\n",
    "\n",
    "관광지수 데이터 계산 코드\n",
    "\n"
   ]
  },
  {
   "cell_type": "code",
   "execution_count": null,
   "id": "42fdee55",
   "metadata": {},
   "outputs": [],
   "source": [
    "class tour 리뷰뷰 :"
   ]
  },
  {
   "cell_type": "code",
   "execution_count": null,
   "id": "097fc9ac",
   "metadata": {},
   "outputs": [],
   "source": [
    "class tour 대중교통통"
   ]
  },
  {
   "cell_type": "code",
   "execution_count": null,
   "id": "28e4cc8f",
   "metadata": {},
   "outputs": [],
   "source": [
    "class tour 혼잡도"
   ]
  },
  {
   "cell_type": "code",
   "execution_count": null,
   "id": "80129e00",
   "metadata": {},
   "outputs": [],
   "source": [
    "class  서버 로 통신\n",
    "    "
   ]
  }
 ],
 "metadata": {
  "language_info": {
   "name": "python"
  }
 },
 "nbformat": 4,
 "nbformat_minor": 5
}
