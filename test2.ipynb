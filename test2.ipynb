{
 "cells": [
  {
   "cell_type": "code",
   "execution_count": 1,
   "id": "56d1c407",
   "metadata": {},
   "outputs": [],
   "source": [
    "import pandas as pd\n",
    "import numpy as np\n",
    "from sklearn.feature_extraction.text import CountVectorizer\n"
   ]
  },
  {
   "cell_type": "code",
   "execution_count": 2,
   "id": "d0867c2b",
   "metadata": {},
   "outputs": [],
   "source": [
    "\n",
    "\n",
    "# file = r'C:\\Users\\hyunj\\Seoul_Strolling_Adventure\\대중교통위치\\my_dataframe5.xlsx'\n",
    "# review = r\"C:\\Users\\hyunj\\Seoul_Strolling_Adventure\\popularity\\zb_review_data_final.csv\"  # 입력 데이터\n",
    "\n",
    "# # popularity = r\"C:\\Users\\hyunj\\Seoul_Strolling_Adventure\\popularity\\popularity_result.csv\"    # 결과(출력) 데이터\n"
   ]
  },
  {
   "cell_type": "code",
   "execution_count": null,
   "id": "1cb44404",
   "metadata": {},
   "outputs": [],
   "source": [
    "import pymysql\n",
    "import pandas as pd\n",
    "from sqlalchemy import create_engine\n",
    "\n",
    "# # 파일 경로\n",
    "file = r'E:\\machin-prj\\대중교통위치\\my_dataframe5.xlsx'\n",
    "# review = r\"C:\\Users\\hyunj\\Seoul_Strolling_Adventure\\popularity\\zb_review_data_final.csv\"\n",
    "\n",
    "# 관광지수\n",
    "file2 = r\"E:\\machin-prj\\관광지수\\final_data_Tourism.csv\"\n",
    "\n",
    "# # 엑셀 및 CSV 데이터 읽기\n",
    "df_excel = pd.read_excel(file)\n",
    "# df_csv = pd.read_csv(review, encoding='utf-8-sig')\n",
    "df_tourism = pd.read_csv(file2, encoding='utf-8-sig')\n",
    "\n",
    "# MySQL 연결 정보 설정\n",
    "host = 'localhost'         # 호스트 (예: '127.0.0.1')\n",
    "user = 'root'              # 사용자 이름\n",
    "password = '0000'      # 사용자 비밀번호\n",
    "database = 'df_region'       # 데이터베이스 이름\n",
    "\n",
    "# MySQL 연결 엔진 생성\n",
    "engine = create_engine(f\"mysql+pymysql://{user}:{password}@{host}/{database}\")\n",
    "\n",
    "# # 데이터 저장 (엑셀 및 CSV)\n",
    "df_excel.to_sql('excel_table', con=engine, if_exists='replace', index=False)\n",
    "# df_csv.to_sql('csv_table', con=engine, if_exists='replace', index=False)\n",
    "df_tourism.to_sql('tourism_table', con=engine, if_exists='replace', index=False)\n",
    "\n",
    "# print(\"데이터가 성공적으로 MySQL에 저장되었습니다!\")\n"
   ]
  },
  {
   "cell_type": "code",
   "execution_count": null,
   "id": "fd0132f4",
   "metadata": {},
   "outputs": [],
   "source": [
    "df_excel=\"excel_table\"  # 불러올 테이블 이름\n",
    "df_csv = 'csv_table'\n",
    "df_csv2 = 'tourism_table'"
   ]
  },
  {
   "cell_type": "code",
   "execution_count": null,
   "id": "1275eaad",
   "metadata": {},
   "outputs": [],
   "source": [
    "df_region = pd.read_sql(df_excel, con=engine)\n",
    "# df_review = pd.read_sql(df_csv, con=engine)\n",
    "df_tourism = pd.read_sql(df_csv2, con=engine)\n",
    "df_tourism"
   ]
  },
  {
   "cell_type": "code",
   "execution_count": null,
   "id": "96744055",
   "metadata": {},
   "outputs": [],
   "source": [
    "import pandas as pd\n",
    "from math import radians, sin, cos, sqrt, asin\n",
    "\n",
    "# Haversine 거리 계산 함수\n",
    "def haversine(lat1, lon1, lat2, lon2):\n",
    "    lat1, lon1, lat2, lon2 = map(radians, [lat1, lon1, lat2, lon2])\n",
    "    dlat, dlon = lat2 - lat1, lon2 - lon1\n",
    "    a = sin(dlat / 2) ** 2 + cos(lat1) * cos(lat2) * sin(dlon / 2) ** 2\n",
    "    return 2 * 6371 * asin(sqrt(a))"
   ]
  },
  {
   "cell_type": "code",
   "execution_count": null,
   "id": "4112cef0",
   "metadata": {},
   "outputs": [],
   "source": [
    "one = r\"E:\\machin-prj\\관광지수\\경기_중심좌표.csv\"\n",
    "two = r\"E:\\machin-prj\\관광지수\\서울_중심좌표.csv\"\n",
    "three = r\"E:\\machin-prj\\관광지수\\인천_중심좌표.csv\"\n",
    "\n",
    "df_one = pd.read_csv(one, encoding='utf-8-sig')\n",
    "df_two = pd.read_csv(two, encoding='utf-8-sig')\n",
    "df_three = pd.read_csv(three, encoding='utf-8-sig')\n",
    "\n"
   ]
  },
  {
   "cell_type": "code",
   "execution_count": null,
   "id": "a4ef5103",
   "metadata": {},
   "outputs": [],
   "source": [
    "df_one.to_sql('gyeonggi', con=engine, if_exists='replace', index=False)\n",
    "df_two.to_sql('seoul', con=engine, if_exists='replace', index=False)\n",
    "df_three.to_sql('inchon', con=engine, if_exists='replace', index=False)\n"
   ]
  },
  {
   "cell_type": "code",
   "execution_count": null,
   "id": "a49018cf",
   "metadata": {},
   "outputs": [],
   "source": [
    "df_gyeonggi = 'gyeonggi'\n",
    "df_seoul = 'seoul'\n",
    "df_inchon = 'inchon'\n",
    "\n",
    "df_one = pd.read_sql(df_gyeonggi, con=engine)\n",
    "df_two = pd.read_sql(df_seoul, con=engine)\n",
    "df_three = pd.read_sql(df_inchon, con=engine)\n",
    "\n",
    "df_one"
   ]
  },
  {
   "cell_type": "code",
   "execution_count": null,
   "id": "ed409a60",
   "metadata": {},
   "outputs": [],
   "source": [
    "df_merged = pd.concat([df_one, df_two, df_three], axis=0)"
   ]
  },
  {
   "cell_type": "code",
   "execution_count": null,
   "id": "15eefa1c",
   "metadata": {},
   "outputs": [],
   "source": [
    "df_merged.to_sql('selected_columns', con=engine, if_exists='replace', index=False)\n"
   ]
  },
  {
   "cell_type": "code",
   "execution_count": null,
   "id": "df01c648",
   "metadata": {},
   "outputs": [],
   "source": [
    "df_columns = 'selected_columns'\n",
    "df_merged = pd.read_sql(df_columns, con=engine)"
   ]
  },
  {
   "cell_type": "code",
   "execution_count": null,
   "id": "59a39fef",
   "metadata": {},
   "outputs": [],
   "source": [
    "df_merged"
   ]
  },
  {
   "cell_type": "code",
   "execution_count": null,
   "id": "49b71e9d",
   "metadata": {},
   "outputs": [],
   "source": [
    "# '행정동' 기준으로 병합 (df_tourism 기준으로 왼쪽 병합)\n",
    "df_tourism_merged = df_tourism.merge(df_merged[['행정동명', '위도', '경도']], \n",
    "                                     left_on='행정동', right_on='행정동명', how='left')\n",
    "\n",
    "# 필요 없는 '행정동명' 열 제거\n",
    "df_tourism_merged.drop(columns=['행정동명'], inplace=True)"
   ]
  },
  {
   "cell_type": "code",
   "execution_count": null,
   "id": "309f64c8",
   "metadata": {},
   "outputs": [],
   "source": [
    "df_tourism_merged"
   ]
  },
  {
   "cell_type": "code",
   "execution_count": null,
   "id": "42640ea2",
   "metadata": {},
   "outputs": [],
   "source": [
    "df_tourism_merged.to_sql('trip_merged', con=engine, if_exists='replace', index=False)"
   ]
  },
  {
   "cell_type": "code",
   "execution_count": null,
   "id": "f28073bd",
   "metadata": {},
   "outputs": [],
   "source": [
    "df_trip_merged = 'trip_merged'\n",
    "\n",
    "df_tourism2 = pd.read_sql(df_trip_merged, con=engine)\n",
    "\n",
    "df_tourism2"
   ]
  },
  {
   "cell_type": "code",
   "execution_count": null,
   "id": "a7fe0a9c",
   "metadata": {},
   "outputs": [],
   "source": [
    "from math import radians, sin, cos, sqrt, asin\n",
    "# Haversine 거리 계산 함수\n",
    "def haversine(lat1, lon1, lat2, lon2):\n",
    "    lat1, lon1, lat2, lon2 = map(radians, [lat1, lon1, lat2, lon2])\n",
    "    dlat, dlon = lat2 - lat1, lon2 - lon1\n",
    "    a = sin(dlat / 2) ** 2 + cos(lat1) * cos(lat2) * sin(dlon / 2) ** 2\n",
    "    return 2 * 6371 * asin(sqrt(a))"
   ]
  },
  {
   "cell_type": "code",
   "execution_count": null,
   "id": "274e8b7a",
   "metadata": {},
   "outputs": [],
   "source": [
    "station_lat, station_lon = 37.5561, 126.9726\n",
    "df_category = df_tourism[\"문화\"]\n"
   ]
  },
  {
   "cell_type": "code",
   "execution_count": null,
   "id": "46723529",
   "metadata": {},
   "outputs": [],
   "source": [
    "df_tourism2[\"거리\"] = df_tourism2.apply(lambda row: haversine(station_lat, station_lon, row[\"위도\"], row[\"경도\"]), axis=1)\n",
    "df_sorted = df_tourism2.sort_values(by=[\"문화\", \"거리\"], ascending=[False, True])\n",
    "\n",
    "# 상위 10개 데이터 선택\n",
    "df_top10 = df_sorted.head(3)\n",
    "df_top10"
   ]
  },
  {
   "cell_type": "code",
   "execution_count": null,
   "id": "73a6caf2",
   "metadata": {},
   "outputs": [],
   "source": []
  },
  {
   "cell_type": "code",
   "execution_count": null,
   "id": "3d058f76",
   "metadata": {},
   "outputs": [],
   "source": [
    "# # 1. 데이터 로드 (my_dataframe5.xlsx)\n",
    "# df_region = pd.read_excel(file)\n",
    "# df_review = pd.read_csv(review, encoding='utf-8-sig')\n",
    "# # df_popularity = pd.read_csv(popularity, encoding='utf-8-sig')\n",
    "# # df_popularity.head(1)  # 데이터 확인"
   ]
  },
  {
   "cell_type": "code",
   "execution_count": null,
   "id": "1c8e539f",
   "metadata": {},
   "outputs": [],
   "source": [
    "df_review"
   ]
  },
  {
   "cell_type": "code",
   "execution_count": null,
   "id": "ba4a066c",
   "metadata": {},
   "outputs": [],
   "source": [
    "# 3) addr1별 긍정점수 평균 계산\n",
    "df_score = (\n",
    "    df_review\n",
    "    .groupby(\"addr1\", as_index=False)[\"긍정점수\"]\n",
    "    .mean()\n",
    "    # 컬럼명이 이미 \"긍정점수\"라면 rename은 생략해도 됩니다.\n",
    ")\n",
    "\n",
    "# 4) addr1별 리뷰내용 묶기\n",
    "df_kw = (\n",
    "    df_review\n",
    "    .groupby(\"addr1\", as_index=False)[\"리뷰내용\"]\n",
    "    .agg(lambda kws: \n",
    "        \" \".join(\n",
    "            sorted(\n",
    "                set(\n",
    "                    # None/NaN 제거\n",
    "                    [k for k in kws if pd.notnull(k)]\n",
    "                )\n",
    "            )\n",
    "        )\n",
    "    )\n",
    ")\n",
    "\n",
    "# 5) df_region에 병합\n",
    "df_region = (\n",
    "    df_region\n",
    "    .merge(df_score, on=\"addr1\", how=\"left\")\n",
    "    .merge(df_kw,    on=\"addr1\", how=\"left\")\n",
    "    .drop_duplicates(subset=[\"title\"], keep=\"first\")\n",
    "    .reset_index(drop=True)\n",
    ")"
   ]
  },
  {
   "cell_type": "code",
   "execution_count": null,
   "id": "2480245b",
   "metadata": {},
   "outputs": [],
   "source": [
    "# NaN 값을 'cat3'로 채우기\n",
    "# NaN 값을 cat3 열의 해당 값으로 채우기\n",
    "df_review['리뷰내용'] = df_review.apply(\n",
    "    lambda row: row['cat3'] if pd.isna(row['리뷰내용']) else row['리뷰내용'],\n",
    "    axis=1\n",
    ")\n"
   ]
  },
  {
   "cell_type": "code",
   "execution_count": null,
   "id": "08573ca5",
   "metadata": {},
   "outputs": [],
   "source": [
    "df_region.head(2)"
   ]
  },
  {
   "cell_type": "code",
   "execution_count": null,
   "id": "4e25dcb2",
   "metadata": {},
   "outputs": [],
   "source": [
    "df = df_region"
   ]
  },
  {
   "cell_type": "code",
   "execution_count": null,
   "id": "6f7e7ffc",
   "metadata": {},
   "outputs": [],
   "source": [
    "import pandas as pd\n",
    "from math import radians, sin, cos, sqrt, asin\n",
    "\n",
    "# Haversine 거리 계산 함수\n",
    "def haversine(lat1, lon1, lat2, lon2):\n",
    "    lat1, lon1, lat2, lon2 = map(radians, [lat1, lon1, lat2, lon2])\n",
    "    dlat, dlon = lat2 - lat1, lon2 - lon1\n",
    "    a = sin(dlat / 2) ** 2 + cos(lat1) * cos(lat2) * sin(dlon / 2) ** 2\n",
    "    return 2 * 6371 * asin(sqrt(a))\n",
    "\n",
    "# 1) 음식 카테고리 필터링\n",
    "df_food = df[df['cat1'] == '자연'].copy()\n",
    "\n",
    "# 2) 서울역 좌표\n",
    "station_lat, station_lon = 37.5561, 126.9726\n",
    "\n",
    "# 3) 각 음식점까지 거리 계산\n",
    "df_food['distance'] = df_food.apply(\n",
    "    lambda r: haversine(station_lat, station_lon, r['mapy'], r['mapx']), axis=1\n",
    ")\n",
    "\n",
    "# 4) 가장 가까운 10개 음식점 추출\n",
    "top10_closest = df_food.nsmallest(10, 'distance').reset_index(drop=True)\n",
    "\n",
    "# 5) 긍정점수 기준으로 정렬\n",
    "top10_sorted = top10_closest.sort_values(by='긍정점수', ascending=False).reset_index(drop=True)\n",
    "\n",
    "# 키워드 열 통합\n",
    "top10_sorted = pd.merge(\n",
    "    top10_sorted,\n",
    "    df_review[['addr1', 'keywords']],\n",
    "    how='left',\n",
    "    on='addr1'\n",
    ")\n",
    "\n",
    "# 중복 열 이름 정리: keywords_y를 keywords로 변경\n",
    "top10_sorted['keywords'] = top10_sorted['keywords_y']\n",
    "\n",
    "# 불필요한 열 제거\n",
    "top10_sorted = top10_sorted.drop(columns=['keywords_x', 'keywords_y'])\n",
    "\n",
    "top10_sorted.head(3)"
   ]
  },
  {
   "cell_type": "code",
   "execution_count": null,
   "id": "75b39de4",
   "metadata": {},
   "outputs": [],
   "source": [
    "\n",
    "stage_names = top10_sorted[\"title\"].tolist()"
   ]
  },
  {
   "cell_type": "code",
   "execution_count": null,
   "id": "b8308a4b",
   "metadata": {},
   "outputs": [],
   "source": [
    "def remove_duplicates_preserve_order(input_list):\n",
    "    seen = set()\n",
    "    return [x for x in input_list if not (x in seen or seen.add(x))]"
   ]
  },
  {
   "cell_type": "code",
   "execution_count": null,
   "id": "2089655c",
   "metadata": {},
   "outputs": [],
   "source": [
    "# 중복 제거\n",
    "stage_names = remove_duplicates_preserve_order(stage_names)"
   ]
  },
  {
   "cell_type": "code",
   "execution_count": null,
   "id": "2ffa8c46",
   "metadata": {},
   "outputs": [],
   "source": [
    "stage_names"
   ]
  },
  {
   "cell_type": "code",
   "execution_count": null,
   "id": "1f0bd5b8",
   "metadata": {},
   "outputs": [],
   "source": [
    "top10_closest = df_food.nsmallest(10, 'distance')  # 인덱스 유지\n",
    "top10_sorted = top10_closest.sort_values(by='긍정점수', ascending=False)  # 인덱스 유지\n"
   ]
  },
  {
   "cell_type": "code",
   "execution_count": null,
   "id": "03c9bfa4",
   "metadata": {},
   "outputs": [],
   "source": [
    "from sklearn.neighbors import NearestNeighbors\n",
    "\n",
    "df_candidates = df_food.drop(top10_sorted.index)\n",
    "coords_rad = np.radians(df_candidates[['mapy','mapx']].values)\n",
    "EARTH_RADIUS = 6371.0\n"
   ]
  },
  {
   "cell_type": "code",
   "execution_count": null,
   "id": "305cadc9",
   "metadata": {},
   "outputs": [],
   "source": [
    "print(\"stage_names 길이:\", len(stage_names))\n",
    "print(\"top10_sorted 길이:\", len(top10_sorted))"
   ]
  },
  {
   "cell_type": "code",
   "execution_count": null,
   "id": "833d8ec0",
   "metadata": {},
   "outputs": [],
   "source": [
    "# # stage_names 동기화\n",
    "# stage_names = top10_sorted[\"title\"].tolist()\n",
    "# if len(stage_names) != len(top10_sorted):\n",
    "#     raise ValueError(\"stage_names와 top10_sorted 길이가 다릅니다.\")\n"
   ]
  },
  {
   "cell_type": "code",
   "execution_count": null,
   "id": "55dbc027",
   "metadata": {},
   "outputs": [],
   "source": [
    "# 4) 반경 10km NN 모델 (haversine)\n",
    "nn = NearestNeighbors(radius=10/EARTH_RADIUS, metric='haversine')\n",
    "nn.fit(coords_rad)\n",
    "\n",
    "used_idxs = set()\n",
    "routes = []\n",
    "\n",
    "for idx, (index, row) in enumerate(top10_sorted.iterrows()):\n",
    "    stage = stage_names[idx]\n",
    "\n",
    "    pt1_rad = np.radians([[row['mapy'], row['mapx']]])\n",
    "\n",
    "    # — 1차 추천: 5~10km 필터 후 score↓, dist↑ —\n",
    "    d1_rad, i1 = nn.radius_neighbors(pt1_rad, return_distance=True)\n",
    "    d1_km = d1_rad[0] * EARTH_RADIUS\n",
    "\n",
    "    # 5km 이상만\n",
    "    mask1 = d1_km >= 5\n",
    "    cand1_all = i1[0][mask1]\n",
    "    dist1_all = d1_km[mask1]\n",
    "\n",
    "    # 사용 안 한 것만 모아서 DataFrame\n",
    "    pairs1 = [(i, dist) for i, dist in zip(cand1_all, dist1_all) if i not in used_idxs]\n",
    "    tmp1 = pd.DataFrame(pairs1, columns=['idx','dist'])\n",
    "    # iloc으로 긍정점수 불러오기\n",
    "    tmp1['긍정점수'] = df_candidates.iloc[tmp1['idx']]['긍정점수'].values\n",
    "    # score 내림차순, 거리 오름차순\n",
    "    tmp1 = tmp1.sort_values(['긍정점수','dist'], ascending=[False,True])\n",
    "\n",
    "    rec1_idxs = tmp1['idx'].tolist()[:5]\n",
    "    used_idxs.update(rec1_idxs)\n",
    "\n",
    "    rec1_df   = df_candidates.iloc[rec1_idxs]\n",
    "    rec1_list = rec1_df['title'].tolist()\n",
    "    rec1_first= rec1_df.iloc[0] if not rec1_df.empty else None\n",
    "\n",
    "    # — 2차 추천 (rec1_first 기준 동일 방식) —\n",
    "    rec2_idxs = []\n",
    "    if rec1_first is not None:\n",
    "        pt2_rad = np.radians([[rec1_first['mapy'], rec1_first['mapx']]])\n",
    "        d2_rad, i2 = nn.radius_neighbors(pt2_rad, return_distance=True)\n",
    "        d2_km = d2_rad[0] * EARTH_RADIUS\n",
    "\n",
    "        mask2 = d2_km >= 5\n",
    "        cand2_all = i2[0][mask2]\n",
    "        dist2_all = d2_km[mask2]\n",
    "\n",
    "        pairs2 = [(i, dist) for i, dist in zip(cand2_all, dist2_all) if i not in used_idxs]\n",
    "        tmp2 = pd.DataFrame(pairs2, columns=['idx','dist'])\n",
    "        tmp2['긍정점수'] = df_candidates.iloc[tmp2['idx']]['긍정점수'].values\n",
    "        tmp2 = tmp2.sort_values(['긍정점수','dist'], ascending=[False,True])\n",
    "\n",
    "        rec2_idxs = tmp2['idx'].tolist()[:5]\n",
    "        used_idxs.update(rec2_idxs)\n",
    "\n",
    "    rec2_df    = df_candidates.iloc[rec2_idxs]\n",
    "    rec2_list  = rec2_df['title'].tolist()\n",
    "    rec2_first = rec2_df.iloc[0] if not rec2_df.empty else None\n",
    "\n",
    "    # — 이동수단1 / 내리는곳1 결정 —\n",
    "    if idx % 2 == 0:\n",
    "        mode1, start1 = '지하철', row['closest_subway_station']\n",
    "    else:\n",
    "        mode1, start1 = '버스', row['matched_station_name']\n",
    "\n",
    "    if rec1_first is not None:\n",
    "        end1 = (rec1_first['closest_subway_station']\n",
    "                if mode1=='지하철'\n",
    "                else rec1_first['matched_station_name'])\n",
    "    else:\n",
    "        end1 = None\n",
    "\n",
    "    # — 이동수단2 / 타는곳2, 내리는곳2 결정 —\n",
    "    mode2 = '버스' if mode1=='지하철' else '지하철'\n",
    "    if rec1_first is not None:\n",
    "        start2 = (rec1_first['closest_subway_station']\n",
    "                  if mode2=='지하철'\n",
    "                  else rec1_first['matched_station_name'])\n",
    "    else:\n",
    "        start2 = None\n",
    "    if rec2_first is not None:\n",
    "        end2 = (rec2_first['closest_subway_station']\n",
    "                if mode2=='지하철'\n",
    "                else rec2_first['matched_station_name'])\n",
    "    else:\n",
    "        end2 = None\n",
    "\n",
    "    routes.append({\n",
    "        '단계': stage,\n",
    "        '이동수단1': mode1,\n",
    "        '타는곳1': start1,\n",
    "        '내리는곳1': end1,\n",
    "        '추천음식점1': ', '.join(rec1_list) or '없음',\n",
    "        '이동수단2': mode2,\n",
    "        '타는곳2': start2,\n",
    "        '내리는곳2': end2,\n",
    "        '추천음식점2': ', '.join(rec2_list) or '없음'\n",
    "    })\n",
    "\n",
    "result_df = pd.DataFrame(routes)\n",
    "result_df "
   ]
  },
  {
   "cell_type": "code",
   "execution_count": null,
   "id": "6fa5745e",
   "metadata": {},
   "outputs": [],
   "source": [
    "# 모든 추천음식점의 키워드를 모아 새로운 열 생성\n",
    "def collect_keywords(row, df_candidates):\n",
    "    # '단계', '추천음식점1', '추천음식점2'의 키워드를 추출\n",
    "    all_titles = row['단계'].split(\", \") + row['추천음식점1'].split(\", \") + row['추천음식점2'].split(\", \")\n",
    "    keyword_set = set()  # 중복 제거를 위한 집합\n",
    "    for title in all_titles:\n",
    "        keywords = df_candidates[df_candidates['title'] == title]['keywords']\n",
    "        if not keywords.empty:\n",
    "            # 키워드 값이 리스트인지 확인\n",
    "            if isinstance(keywords.iloc[0], list):\n",
    "                keyword_set.update(keywords.iloc[0])  # 키워드를 집합에 추가\n",
    "    return list(keyword_set) if keyword_set else [\"No keywords\"]  # 기본값 처리\n",
    "\n",
    "# 단계별 데이터 처리\n",
    "result_df['모든추천장소키워드'] = result_df.apply(lambda row: collect_keywords(row, df_candidates), axis=1)"
   ]
  },
  {
   "cell_type": "code",
   "execution_count": null,
   "id": "3467ab6c",
   "metadata": {},
   "outputs": [],
   "source": [
    "result_df.insert(0, '모든추천장소키워드', result_df.pop('모든추천장소키워드'))  # '모든추천장소키워드'를 맨 앞에 추가\n",
    "\n",
    "result_df.rename(columns={'추천음식점2': '추천장소3'}, inplace=True)  # 추천음식점2를 추천음식점3으로 변경\n",
    "result_df.rename(columns={'추천음식점1': '추천장소2'}, inplace=True) \n",
    "result_df.rename(columns={'단계': '추천장소점1'}, inplace=True) \n"
   ]
  },
  {
   "cell_type": "code",
   "execution_count": null,
   "id": "fc15385a",
   "metadata": {},
   "outputs": [],
   "source": [
    "result_df"
   ]
  },
  {
   "cell_type": "code",
   "execution_count": null,
   "id": "44188252",
   "metadata": {},
   "outputs": [],
   "source": [
    "def create_sentence(keywords):\n",
    "    if not keywords:  # 키워드가 비어있는 경우\n",
    "        return \"특징을 찾을 수 없습니다.\"\n",
    "    return f\"이 장소는 {', '.join(keywords[::])} 등이 특징입니다.\"  # 최대 3개의 키워드 사용\n",
    "\n",
    "# 모든 행의 키워드를 문장으로 변환하여 새 열 추가\n",
    "result_df['추천음식점소개'] = result_df['모든추천장소키워드'].apply(create_sentence)"
   ]
  },
  {
   "cell_type": "code",
   "execution_count": null,
   "id": "7fa67c3c",
   "metadata": {},
   "outputs": [],
   "source": [
    "result_df"
   ]
  },
  {
   "cell_type": "code",
   "execution_count": null,
   "id": "8a71ecca",
   "metadata": {},
   "outputs": [],
   "source": [
    "import re\n",
    "from collections import Counter\n",
    "\n",
    "# ▣ 0. 패턴 · 불용어 정의 -------------------------------------------------\n",
    "STOPWORDS = {\n",
    "    '곳', '맛', '일', '개', '어쩌구', '집', '곳이', '곳입니다'\n",
    "}\n",
    "\n",
    "MENU_KEY   = r\"(짜장|짬뽕|탕수육|파스타|스테이크|갈비|돈까스|냉면|볶음밥)$\"\n",
    "TASTE_KEY  = r\"(맛있음|존맛|존맛탱|훌륭|완벽|꿀맛|강추|재밌음|만족)$\"\n",
    "\n",
    "# ▣ 1. 혼합 토큰 분리 ---------------------------------------------------\n",
    "def split_mixed_token(tok: str) -> list[str]:\n",
    "    \"\"\"\n",
    "    '진갈비어쩌구인데맛있음' → ['진갈비어쩌구인데', '맛있음']\n",
    "    \"\"\"\n",
    "    m = re.search(TASTE_KEY, tok)\n",
    "    if m:\n",
    "        taste = m.group()\n",
    "        dish  = re.sub(TASTE_KEY + r\".*\", \"\", tok)          # 감상어 뒤쪽 삭제\n",
    "        return [dish] if not dish else [dish, taste]\n",
    "    return [tok]\n",
    "\n",
    "# ▣ 2. 전처리 -----------------------------------------------------------\n",
    "def clean_tokens(tokens: list[str]) -> list[str]:\n",
    "    \"\"\"\n",
    "    - 공백·불용어·특수기호·1~2자 일반어 제거\n",
    "    - '개맛있음' ⇒ '맛있음'  (강세 접두사 '개' 제거)\n",
    "    \"\"\"\n",
    "    out = []\n",
    "    for t in tokens:\n",
    "        t = t.strip()\n",
    "        if not t or t in STOPWORDS:\n",
    "            continue\n",
    "\n",
    "        # 접두사 '개' 제거\n",
    "        if t.startswith('개') and len(t) > 2:\n",
    "            t = t[1:]\n",
    "\n",
    "        # 특수기호·짧은 토큰 제거\n",
    "        if re.fullmatch(r\"[^\\w가-힣]+\", t):\n",
    "            continue\n",
    "        if len(t) <= 2 and re.fullmatch(r\"[A-Za-z가-힣]+\", t):\n",
    "            continue\n",
    "\n",
    "        out.append(t)\n",
    "    return out\n",
    "\n",
    "# ▣ 3. 메뉴명 정규화 ----------------------------------------------------\n",
    "def normalize_menu(word: str) -> str:\n",
    "    \"\"\"\n",
    "    '진갈비어쩌구인데' → '진갈비'\n",
    "    '짜장면은'         → '짜장면'\n",
    "    \"\"\"\n",
    "    m = re.search(MENU_KEY, word)\n",
    "    core = word[:m.end()] if m else word            # 메뉴키워드까지 잘라냄\n",
    "    core = re.sub(r\"(은|는|이|가|을|를)$\", \"\", core) # 끝 조사 제거\n",
    "    return core\n",
    "\n",
    "# ▣ 4. 음식이 없을 때 “주 대상” 잡기 ------------------------------------\n",
    "def pick_main_keyword(tokens: list[str],\n",
    "                      reserved: set[str],\n",
    "                      fallback: str = \"이곳\") -> str:\n",
    "    \"\"\"\n",
    "    ① 음식(Menu) 있으면 그것 사용\n",
    "    ② 없으면 남은 토큰 중 명사형(2글자↑) 빈도 1위\n",
    "    ③ 없으면 fallback\n",
    "    \"\"\"\n",
    "    food = [t for t in tokens if re.search(MENU_KEY, t)]\n",
    "    if food:\n",
    "        return normalize_menu(Counter(food).most_common(1)[0][0])\n",
    "\n",
    "    candidates = [t for t in tokens if t not in reserved]\n",
    "    noun_like  = [t for t in candidates if re.fullmatch(r\"[가-힣A-Za-z]{2,}\", t)]\n",
    "    if noun_like:\n",
    "        return Counter(noun_like).most_common(1)[0][0]\n",
    "\n",
    "    return fallback\n",
    "\n",
    "# ▣ 5. 메인 변환 함수 ---------------------------------------------------\n",
    "def keywords_to_sentence(keyword_blob) -> str:\n",
    "    \"\"\"\n",
    "    keyword_blob : 쉼표로 구분된 str  또는  키워드 list\n",
    "    return       : 자연스러운 한 문장\n",
    "    \"\"\"\n",
    "    # 5-1) 토큰화\n",
    "    if isinstance(keyword_blob, str):\n",
    "        blob = re.sub(r\"^이\\s+장소는\\s*\", \"\", keyword_blob)  # 프리픽스 제거\n",
    "        raw_tokens = [tok.strip() for tok in blob.split(',')]\n",
    "    else:\n",
    "        raw_tokens = list(keyword_blob)\n",
    "\n",
    "    # 5-2) 혼합 토큰 분리 + 클린\n",
    "    tokens = []\n",
    "    for t in raw_tokens:\n",
    "        tokens.extend(split_mixed_token(t))\n",
    "    tokens = clean_tokens(tokens)\n",
    "\n",
    "    # 5-3) 범주별 후보 추출\n",
    "    dishes   = [t for t in tokens if re.search(MENU_KEY, t)]\n",
    "    people   = [t for t in tokens if t.endswith(('와', '랑'))]               # 외할머니와 …\n",
    "    tastes   = [t for t in tokens if re.fullmatch(TASTE_KEY, t)]\n",
    "    ambience = [t for t in tokens if t in ('깔끔한', '분위기로', '친절하고', '편했답니다')]\n",
    "    places   = [t for t in tokens if t.endswith(('타운', '동', '차이나타운', '식당'))]\n",
    "\n",
    "    pick = lambda lst: Counter(lst).most_common(1)[0][0] if lst else \"\"\n",
    "\n",
    "    reserved = set(sum([dishes, people, tastes, ambience, places], []))\n",
    "    main_kw  = pick_main_keyword(tokens, reserved)\n",
    "\n",
    "    who   = pick(people)\n",
    "    taste = pick(tastes) or \"괜찮았습니다\"\n",
    "    vibe  = pick(ambience)\n",
    "    where = pick(places)\n",
    "\n",
    "    # 5-4) 템플릿 조립\n",
    "    sentence  = f\"{where + '에서 ' if where else ''}\"\n",
    "    sentence += f\"{who + ' 함께 ' if who else ''}{main_kw}을(를) \"\n",
    "    sentence += f\"경험했는데 {taste}\"\n",
    "    if vibe:\n",
    "        sentence += f\"({vibe} 분위기)\"\n",
    "\n",
    "    return sentence\n",
    "\n"
   ]
  },
  {
   "cell_type": "code",
   "execution_count": null,
   "id": "7706ef93",
   "metadata": {},
   "outputs": [],
   "source": [
    "result_df[\"한줄소개\"] = result_df[\"모든추천장소키워드\"].apply(keywords_to_sentence)"
   ]
  },
  {
   "cell_type": "code",
   "execution_count": null,
   "id": "d3bcafe4",
   "metadata": {},
   "outputs": [],
   "source": [
    "# result_df.to_excel('result.xlsx', index=False, sheet_name='ResultData')"
   ]
  },
  {
   "cell_type": "code",
   "execution_count": null,
   "id": "f126c013",
   "metadata": {},
   "outputs": [],
   "source": [
    "result_df"
   ]
  }
 ],
 "metadata": {
  "kernelspec": {
   "display_name": "base",
   "language": "python",
   "name": "python3"
  },
  "language_info": {
   "codemirror_mode": {
    "name": "ipython",
    "version": 3
   },
   "file_extension": ".py",
   "mimetype": "text/x-python",
   "name": "python",
   "nbconvert_exporter": "python",
   "pygments_lexer": "ipython3",
   "version": "3.12.7"
  }
 },
 "nbformat": 4,
 "nbformat_minor": 5
}
